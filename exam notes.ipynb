{
 "cells": [
  {
   "cell_type": "code",
   "execution_count": 1,
   "id": "cfb5419d",
   "metadata": {},
   "outputs": [],
   "source": [
    "import numpy as np\n",
    "import numpy as np\n",
    "from scipy import stats \n",
    "from sklearn.mixture import GaussianMixture\n",
    "from sklearn.neighbors import KernelDensity\n",
    "import numpy as np\n",
    "import pandas as pd\n",
    "from matplotlib import pyplot as plt\n",
    "from sklearn.gaussian_process import GaussianProcessRegressor\n",
    "from sklearn.gaussian_process.kernels import WhiteKernel, RBF, Matern, ConstantKernel as C"
   ]
  },
  {
   "cell_type": "markdown",
   "id": "30671084",
   "metadata": {},
   "source": [
    "p(LW|S) = p(LW and S) / [ p(LW and S) + p(SW and S) ]  = \n",
    "\n",
    "p(SW|NS) = p(SW and NS) / [ p(SW and NS) + p(LW and NS)]  = \n",
    "\n",
    "\n"
   ]
  },
  {
   "cell_type": "code",
   "execution_count": 2,
   "id": "91508c7d",
   "metadata": {},
   "outputs": [
    {
     "data": {
      "text/plain": [
       "2.0"
      ]
     },
     "execution_count": 2,
     "metadata": {},
     "output_type": "execute_result"
    }
   ],
   "source": [
    "L = [[0,0.0625],\n",
    "[1,0.25],\n",
    "[2,0.375],\n",
    "[3,0.25],\n",
    "[4,0.0625]]\n",
    "x = 0\n",
    "for xi,p in L:\n",
    "  x+=xi*p\n",
    "x"
   ]
  },
  {
   "cell_type": "code",
   "execution_count": 4,
   "id": "26fce7e9",
   "metadata": {},
   "outputs": [
    {
     "data": {
      "text/plain": [
       "(0.3142857142857143, 0.47058823529411764)"
      ]
     },
     "execution_count": 4,
     "metadata": {},
     "output_type": "execute_result"
    }
   ],
   "source": [
    "SandLW = 11/52\n",
    "SandSW = 24/52\n",
    "NSandLW = 9/52\n",
    "NSandSW = 8/52\n",
    "\n",
    "a = SandLW / (SandLW+SandSW)\n",
    "b = NSandSW / (NSandSW+NSandLW)\n",
    "a,b"
   ]
  },
  {
   "cell_type": "code",
   "execution_count": 14,
   "id": "506c1f45",
   "metadata": {},
   "outputs": [
    {
     "name": "stdout",
     "output_type": "stream",
     "text": [
      "1.4962601205162258 0.22646359612261863\n"
     ]
    },
    {
     "data": {
      "text/plain": [
       "(1.5351247098978962, 2.4806211792400394)"
      ]
     },
     "execution_count": 14,
     "metadata": {},
     "output_type": "execute_result"
    }
   ],
   "source": [
    "Ti = np.array([6.7,8.6,9.4,5.8,9.2,8.5,4.4,7.0,7.9])\n",
    "ti = np.array([2.2,4.3,5.2,1.0,5.4,2.6,1.6,0.6,3.4])\n",
    "tau = Ti-ti\n",
    "mu_hat = np.sum(np.log(tau)) / len(tau)\n",
    "sgm_hat = np.sum((np.log(tau) - mu_hat)**2)/len(tau)\n",
    "print(mu_hat,np.sqrt(sgm_hat))\n",
    "m = np.exp(\n",
    "  np.log(mu_hat) + (1/2)*sgm_hat\n",
    ")\n",
    "v = np.exp(\n",
    "  2*np.log(mu_hat)+2*sgm_hat\n",
    ")\n",
    "m,v"
   ]
  }
 ],
 "metadata": {
  "kernelspec": {
   "display_name": "Python 3",
   "language": "python",
   "name": "python3"
  },
  "language_info": {
   "codemirror_mode": {
    "name": "ipython",
    "version": 3
   },
   "file_extension": ".py",
   "mimetype": "text/x-python",
   "name": "python",
   "nbconvert_exporter": "python",
   "pygments_lexer": "ipython3",
   "version": "3.8.8"
  }
 },
 "nbformat": 4,
 "nbformat_minor": 5
}
